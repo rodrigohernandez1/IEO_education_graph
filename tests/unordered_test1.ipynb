{
 "cells": [
  {
   "cell_type": "markdown",
   "metadata": {},
   "source": [
    "<h1> Test 1 </h1>\n",
    "\n",
    "This is the first test for an unordered network of the economics and finance curriculum for the IEO training. \n",
    "\n",
    "This was first done February 5th 2025\n",
    "\n",
    "This code is for testing and playing with networkx and pyvis"
   ]
  },
  {
   "cell_type": "code",
   "execution_count": 1445,
   "metadata": {},
   "outputs": [],
   "source": [
    "import networkx as nx\n",
    "from pyvis.network import Network\n",
    "import matplotlib.colors as mcolors"
   ]
  },
  {
   "cell_type": "markdown",
   "metadata": {},
   "source": [
    "I start by creating a directed graph G"
   ]
  },
  {
   "cell_type": "code",
   "execution_count": 1446,
   "metadata": {},
   "outputs": [],
   "source": [
    "G = nx.DiGraph()"
   ]
  },
  {
   "cell_type": "markdown",
   "metadata": {},
   "source": [
    "I will specify the required hierarchy of the topics, there are two main topics in the IEO: Economics and Finance"
   ]
  },
  {
   "cell_type": "code",
   "execution_count": 1447,
   "metadata": {},
   "outputs": [],
   "source": [
    "hierarchy = {\n",
    "    #Econ\n",
    "    \"Economics\" : [\"Microeconomics\", \"Macroeconomics\", \"International Economics\", \"Research\"],\n",
    "    \"Microeconomics\" : [\"Competitive markets\", \"Consumer's choice\", \"Firm's behavior\", \"Non-competitive markets\", \"Government interventions\", \"Market failures\", \"Labor market\", \"Game thoery\", \"Innovations\"], \n",
    "    \"Macroeconomics\" : [\"Macroeconomic data\", \"Technology and long-run growth\", \"Labor market\", \"AD-AS model\", \"Money and banks\", \"Monetary and fiscal policy\", \"Economic fluctuations and crises\", \"Institutions and Inequality\"], \n",
    "    \"International Economics\" : [\"Specialization and trade\", \"Protectionism\", \"Currencies\", \"Environment and sustainable development\"],\n",
    "    \"Research\" : [\"Nobel laureates (memory)\", \"Nobel research (connectivity)\"], \n",
    "    #Finance \n",
    "    \"Finance\" : [\"Financial Planning\", \"Banks and the banking system\", \"Saving Money\", \"Borrowing Money, Credit\", \"Investments and Risk Management\", \"Insurance\", \"Financial Fraud\", \"Crowdfunding\", \"Cryptocurrencies\"]\n",
    "}"
   ]
  },
  {
   "cell_type": "markdown",
   "metadata": {},
   "source": [
    "I specify a function that will complete the nodes between parent and children from the dictionary "
   ]
  },
  {
   "cell_type": "code",
   "execution_count": 1448,
   "metadata": {},
   "outputs": [],
   "source": [
    "def edge_maker(network, parent, children): \n",
    "    for child in children: \n",
    "        network.add_edge(parent, child)"
   ]
  },
  {
   "cell_type": "code",
   "execution_count": 1449,
   "metadata": {},
   "outputs": [],
   "source": [
    "for parent, children in hierarchy.items(): \n",
    "    edge_maker(G, parent, children)"
   ]
  },
  {
   "cell_type": "markdown",
   "metadata": {},
   "source": [
    "list the nodes"
   ]
  },
  {
   "cell_type": "code",
   "execution_count": 1450,
   "metadata": {},
   "outputs": [
    {
     "name": "stdout",
     "output_type": "stream",
     "text": [
      "['Economics', 'Microeconomics', 'Macroeconomics', 'International Economics', 'Research', 'Competitive markets', \"Consumer's choice\", \"Firm's behavior\", 'Non-competitive markets', 'Government interventions', 'Market failures', 'Labor market', 'Game thoery', 'Innovations', 'Macroeconomic data', 'Technology and long-run growth', 'AD-AS model', 'Money and banks', 'Monetary and fiscal policy', 'Economic fluctuations and crises', 'Institutions and Inequality', 'Specialization and trade', 'Protectionism', 'Currencies', 'Environment and sustainable development', 'Nobel laureates (memory)', 'Nobel research (connectivity)', 'Finance', 'Financial Planning', 'Banks and the banking system', 'Saving Money', 'Borrowing Money, Credit', 'Investments and Risk Management', 'Insurance', 'Financial Fraud', 'Crowdfunding', 'Cryptocurrencies']\n",
      "37\n"
     ]
    }
   ],
   "source": [
    "print((G.nodes()))\n",
    "print(len(G.nodes))"
   ]
  },
  {
   "cell_type": "markdown",
   "metadata": {},
   "source": [
    "test for descendants and succesors"
   ]
  },
  {
   "cell_type": "code",
   "execution_count": 1451,
   "metadata": {},
   "outputs": [
    {
     "name": "stdout",
     "output_type": "stream",
     "text": [
      "['Competitive markets', \"Consumer's choice\", \"Firm's behavior\", 'Non-competitive markets', 'Government interventions', 'Market failures', 'Labor market', 'Game thoery', 'Innovations']\n",
      "['Macroeconomic data', 'Technology and long-run growth', 'Labor market', 'AD-AS model', 'Money and banks', 'Monetary and fiscal policy', 'Economic fluctuations and crises', 'Institutions and Inequality']\n",
      "['Specialization and trade', 'Protectionism', 'Currencies', 'Environment and sustainable development']\n",
      "['Nobel laureates (memory)', 'Nobel research (connectivity)']\n",
      "22\n",
      "26\n"
     ]
    }
   ],
   "source": [
    "for node in G.successors(\"Economics\"): \n",
    "    print(list(G.successors(node)))\n",
    "grandchildren_econ = nx.descendants_at_distance(G, \"Economics\", 2 )\n",
    "print(len(grandchildren_econ))\n",
    "descendants_econ = nx.descendants(G, \"Economics\")\n",
    "print(len(descendants_econ))"
   ]
  },
  {
   "cell_type": "code",
   "execution_count": 1452,
   "metadata": {},
   "outputs": [],
   "source": [
    "for node in G.nodes():\n",
    "    G.nodes[node]['descendants'] = len(nx.descendants(G, node))\n",
    "G.nodes['Microeconomics']['score'] = 0.8\n",
    "    \n"
   ]
  },
  {
   "cell_type": "code",
   "execution_count": 1453,
   "metadata": {},
   "outputs": [
    {
     "name": "stdout",
     "output_type": "stream",
     "text": [
      "{'descendants': 2}\n"
     ]
    }
   ],
   "source": [
    "print(G.nodes[\"Research\"])"
   ]
  },
  {
   "cell_type": "markdown",
   "metadata": {},
   "source": [
    "Convert it to PyVis graph"
   ]
  },
  {
   "cell_type": "code",
   "execution_count": 1454,
   "metadata": {},
   "outputs": [
    {
     "name": "stdout",
     "output_type": "stream",
     "text": [
      "Warning: When  cdn_resources is 'local' jupyter notebook has issues displaying graphics on chrome/safari. Use cdn_resources='in_line' or cdn_resources='remote' if you have issues viewing graphics in a notebook.\n"
     ]
    }
   ],
   "source": [
    "net = Network(notebook=True, directed=True)\n",
    "net.from_nx(G)"
   ]
  },
  {
   "cell_type": "markdown",
   "metadata": {},
   "source": [
    "Make all the adjusments of color"
   ]
  },
  {
   "cell_type": "code",
   "execution_count": 1455,
   "metadata": {},
   "outputs": [],
   "source": [
    "for edge in net.edges:\n",
    "    edge['color'] = 'rgba(20, 20, 20, 0.3)' \n"
   ]
  },
  {
   "cell_type": "markdown",
   "metadata": {},
   "source": [
    "Normalizar datos"
   ]
  },
  {
   "cell_type": "code",
   "execution_count": 1456,
   "metadata": {},
   "outputs": [],
   "source": [
    "max = -1\n",
    "for node in G.nodes(): \n",
    "    if G.nodes[node]['descendants'] > max: \n",
    "        max = G.nodes[node]['descendants']\n",
    "    \n",
    "normalizar =  100 / (max + 1) \n",
    "\n"
   ]
  },
  {
   "cell_type": "code",
   "execution_count": null,
   "metadata": {},
   "outputs": [],
   "source": [
    "for node in net.nodes:\n",
    "    node['title'] = str(G.nodes[node['id']].get('descendants'))\n",
    "    node[\"size\"] = (G.nodes[node['id']].get('descendants') + 1) * normalizar\n",
    "    node['score'] = G.nodes[node['id']].get('score', 0.31)"
   ]
  },
  {
   "cell_type": "markdown",
   "metadata": {},
   "source": [
    "Convertion of continous colors"
   ]
  },
  {
   "cell_type": "code",
   "execution_count": 1458,
   "metadata": {},
   "outputs": [
    {
     "data": {
      "text/plain": [
       "'rgba(255, 255, 0, 1)'"
      ]
     },
     "execution_count": 1458,
     "metadata": {},
     "output_type": "execute_result"
    }
   ],
   "source": [
    "\n",
    "def scores_to_rgb(score): \n",
    "    rgb_255 = []\n",
    "    hue = 120 * score\n",
    "    rgb = mcolors.hsv_to_rgb([hue / 360, 1, 1])\n",
    "    for i in rgb: \n",
    "        rgb_255.append(int((i * 255).round(1)))\n",
    "    return f'rgba({rgb_255[0]}, {rgb_255[1]}, {rgb_255[2]}, 1)'\n",
    "scores_to_rgb(0.5)\n"
   ]
  },
  {
   "cell_type": "code",
   "execution_count": 1459,
   "metadata": {},
   "outputs": [],
   "source": [
    "for node in net.nodes: \n",
    "    node['color'] = scores_to_rgb(node['score'])"
   ]
  },
  {
   "cell_type": "code",
   "execution_count": 1460,
   "metadata": {},
   "outputs": [
    {
     "data": {
      "text/plain": [
       "[{'color': 'rgba(255, 158, 0, 1)',\n",
       "  'descendants': 26,\n",
       "  'size': 100.0,\n",
       "  'id': 'Economics',\n",
       "  'label': 'Economics',\n",
       "  'shape': 'dot',\n",
       "  'title': '26',\n",
       "  'score': 0.31},\n",
       " {'color': 'rgba(102, 255, 0, 1)',\n",
       "  'descendants': 9,\n",
       "  'score': 0.8,\n",
       "  'size': 37.03703703703704,\n",
       "  'id': 'Microeconomics',\n",
       "  'label': 'Microeconomics',\n",
       "  'shape': 'dot',\n",
       "  'title': '9'},\n",
       " {'color': 'rgba(255, 158, 0, 1)',\n",
       "  'descendants': 8,\n",
       "  'size': 33.333333333333336,\n",
       "  'id': 'Macroeconomics',\n",
       "  'label': 'Macroeconomics',\n",
       "  'shape': 'dot',\n",
       "  'title': '8',\n",
       "  'score': 0.31},\n",
       " {'color': 'rgba(255, 158, 0, 1)',\n",
       "  'descendants': 4,\n",
       "  'size': 18.51851851851852,\n",
       "  'id': 'International Economics',\n",
       "  'label': 'International Economics',\n",
       "  'shape': 'dot',\n",
       "  'title': '4',\n",
       "  'score': 0.31},\n",
       " {'color': 'rgba(255, 158, 0, 1)',\n",
       "  'descendants': 2,\n",
       "  'size': 11.11111111111111,\n",
       "  'id': 'Research',\n",
       "  'label': 'Research',\n",
       "  'shape': 'dot',\n",
       "  'title': '2',\n",
       "  'score': 0.31},\n",
       " {'color': 'rgba(255, 158, 0, 1)',\n",
       "  'descendants': 0,\n",
       "  'size': 3.7037037037037037,\n",
       "  'id': 'Competitive markets',\n",
       "  'label': 'Competitive markets',\n",
       "  'shape': 'dot',\n",
       "  'title': '0',\n",
       "  'score': 0.31},\n",
       " {'color': 'rgba(255, 158, 0, 1)',\n",
       "  'descendants': 0,\n",
       "  'size': 3.7037037037037037,\n",
       "  'id': \"Consumer's choice\",\n",
       "  'label': \"Consumer's choice\",\n",
       "  'shape': 'dot',\n",
       "  'title': '0',\n",
       "  'score': 0.31},\n",
       " {'color': 'rgba(255, 158, 0, 1)',\n",
       "  'descendants': 0,\n",
       "  'size': 3.7037037037037037,\n",
       "  'id': \"Firm's behavior\",\n",
       "  'label': \"Firm's behavior\",\n",
       "  'shape': 'dot',\n",
       "  'title': '0',\n",
       "  'score': 0.31},\n",
       " {'color': 'rgba(255, 158, 0, 1)',\n",
       "  'descendants': 0,\n",
       "  'size': 3.7037037037037037,\n",
       "  'id': 'Non-competitive markets',\n",
       "  'label': 'Non-competitive markets',\n",
       "  'shape': 'dot',\n",
       "  'title': '0',\n",
       "  'score': 0.31},\n",
       " {'color': 'rgba(255, 158, 0, 1)',\n",
       "  'descendants': 0,\n",
       "  'size': 3.7037037037037037,\n",
       "  'id': 'Government interventions',\n",
       "  'label': 'Government interventions',\n",
       "  'shape': 'dot',\n",
       "  'title': '0',\n",
       "  'score': 0.31},\n",
       " {'color': 'rgba(255, 158, 0, 1)',\n",
       "  'descendants': 0,\n",
       "  'size': 3.7037037037037037,\n",
       "  'id': 'Market failures',\n",
       "  'label': 'Market failures',\n",
       "  'shape': 'dot',\n",
       "  'title': '0',\n",
       "  'score': 0.31},\n",
       " {'color': 'rgba(255, 158, 0, 1)',\n",
       "  'descendants': 0,\n",
       "  'size': 3.7037037037037037,\n",
       "  'id': 'Labor market',\n",
       "  'label': 'Labor market',\n",
       "  'shape': 'dot',\n",
       "  'title': '0',\n",
       "  'score': 0.31},\n",
       " {'color': 'rgba(255, 158, 0, 1)',\n",
       "  'descendants': 0,\n",
       "  'size': 3.7037037037037037,\n",
       "  'id': 'Game thoery',\n",
       "  'label': 'Game thoery',\n",
       "  'shape': 'dot',\n",
       "  'title': '0',\n",
       "  'score': 0.31},\n",
       " {'color': 'rgba(255, 158, 0, 1)',\n",
       "  'descendants': 0,\n",
       "  'size': 3.7037037037037037,\n",
       "  'id': 'Innovations',\n",
       "  'label': 'Innovations',\n",
       "  'shape': 'dot',\n",
       "  'title': '0',\n",
       "  'score': 0.31},\n",
       " {'color': 'rgba(255, 158, 0, 1)',\n",
       "  'descendants': 0,\n",
       "  'size': 3.7037037037037037,\n",
       "  'id': 'Macroeconomic data',\n",
       "  'label': 'Macroeconomic data',\n",
       "  'shape': 'dot',\n",
       "  'title': '0',\n",
       "  'score': 0.31},\n",
       " {'color': 'rgba(255, 158, 0, 1)',\n",
       "  'descendants': 0,\n",
       "  'size': 3.7037037037037037,\n",
       "  'id': 'Technology and long-run growth',\n",
       "  'label': 'Technology and long-run growth',\n",
       "  'shape': 'dot',\n",
       "  'title': '0',\n",
       "  'score': 0.31},\n",
       " {'color': 'rgba(255, 158, 0, 1)',\n",
       "  'descendants': 0,\n",
       "  'size': 3.7037037037037037,\n",
       "  'id': 'AD-AS model',\n",
       "  'label': 'AD-AS model',\n",
       "  'shape': 'dot',\n",
       "  'title': '0',\n",
       "  'score': 0.31},\n",
       " {'color': 'rgba(255, 158, 0, 1)',\n",
       "  'descendants': 0,\n",
       "  'size': 3.7037037037037037,\n",
       "  'id': 'Money and banks',\n",
       "  'label': 'Money and banks',\n",
       "  'shape': 'dot',\n",
       "  'title': '0',\n",
       "  'score': 0.31},\n",
       " {'color': 'rgba(255, 158, 0, 1)',\n",
       "  'descendants': 0,\n",
       "  'size': 3.7037037037037037,\n",
       "  'id': 'Monetary and fiscal policy',\n",
       "  'label': 'Monetary and fiscal policy',\n",
       "  'shape': 'dot',\n",
       "  'title': '0',\n",
       "  'score': 0.31},\n",
       " {'color': 'rgba(255, 158, 0, 1)',\n",
       "  'descendants': 0,\n",
       "  'size': 3.7037037037037037,\n",
       "  'id': 'Economic fluctuations and crises',\n",
       "  'label': 'Economic fluctuations and crises',\n",
       "  'shape': 'dot',\n",
       "  'title': '0',\n",
       "  'score': 0.31},\n",
       " {'color': 'rgba(255, 158, 0, 1)',\n",
       "  'descendants': 0,\n",
       "  'size': 3.7037037037037037,\n",
       "  'id': 'Institutions and Inequality',\n",
       "  'label': 'Institutions and Inequality',\n",
       "  'shape': 'dot',\n",
       "  'title': '0',\n",
       "  'score': 0.31},\n",
       " {'color': 'rgba(255, 158, 0, 1)',\n",
       "  'descendants': 0,\n",
       "  'size': 3.7037037037037037,\n",
       "  'id': 'Specialization and trade',\n",
       "  'label': 'Specialization and trade',\n",
       "  'shape': 'dot',\n",
       "  'title': '0',\n",
       "  'score': 0.31},\n",
       " {'color': 'rgba(255, 158, 0, 1)',\n",
       "  'descendants': 0,\n",
       "  'size': 3.7037037037037037,\n",
       "  'id': 'Protectionism',\n",
       "  'label': 'Protectionism',\n",
       "  'shape': 'dot',\n",
       "  'title': '0',\n",
       "  'score': 0.31},\n",
       " {'color': 'rgba(255, 158, 0, 1)',\n",
       "  'descendants': 0,\n",
       "  'size': 3.7037037037037037,\n",
       "  'id': 'Currencies',\n",
       "  'label': 'Currencies',\n",
       "  'shape': 'dot',\n",
       "  'title': '0',\n",
       "  'score': 0.31},\n",
       " {'color': 'rgba(255, 158, 0, 1)',\n",
       "  'descendants': 0,\n",
       "  'size': 3.7037037037037037,\n",
       "  'id': 'Environment and sustainable development',\n",
       "  'label': 'Environment and sustainable development',\n",
       "  'shape': 'dot',\n",
       "  'title': '0',\n",
       "  'score': 0.31},\n",
       " {'color': 'rgba(255, 158, 0, 1)',\n",
       "  'descendants': 0,\n",
       "  'size': 3.7037037037037037,\n",
       "  'id': 'Nobel laureates (memory)',\n",
       "  'label': 'Nobel laureates (memory)',\n",
       "  'shape': 'dot',\n",
       "  'title': '0',\n",
       "  'score': 0.31},\n",
       " {'color': 'rgba(255, 158, 0, 1)',\n",
       "  'descendants': 0,\n",
       "  'size': 3.7037037037037037,\n",
       "  'id': 'Nobel research (connectivity)',\n",
       "  'label': 'Nobel research (connectivity)',\n",
       "  'shape': 'dot',\n",
       "  'title': '0',\n",
       "  'score': 0.31},\n",
       " {'color': 'rgba(255, 158, 0, 1)',\n",
       "  'descendants': 9,\n",
       "  'size': 37.03703703703704,\n",
       "  'id': 'Finance',\n",
       "  'label': 'Finance',\n",
       "  'shape': 'dot',\n",
       "  'title': '9',\n",
       "  'score': 0.31},\n",
       " {'color': 'rgba(255, 158, 0, 1)',\n",
       "  'descendants': 0,\n",
       "  'size': 3.7037037037037037,\n",
       "  'id': 'Financial Planning',\n",
       "  'label': 'Financial Planning',\n",
       "  'shape': 'dot',\n",
       "  'title': '0',\n",
       "  'score': 0.31},\n",
       " {'color': 'rgba(255, 158, 0, 1)',\n",
       "  'descendants': 0,\n",
       "  'size': 3.7037037037037037,\n",
       "  'id': 'Banks and the banking system',\n",
       "  'label': 'Banks and the banking system',\n",
       "  'shape': 'dot',\n",
       "  'title': '0',\n",
       "  'score': 0.31},\n",
       " {'color': 'rgba(255, 158, 0, 1)',\n",
       "  'descendants': 0,\n",
       "  'size': 3.7037037037037037,\n",
       "  'id': 'Saving Money',\n",
       "  'label': 'Saving Money',\n",
       "  'shape': 'dot',\n",
       "  'title': '0',\n",
       "  'score': 0.31},\n",
       " {'color': 'rgba(255, 158, 0, 1)',\n",
       "  'descendants': 0,\n",
       "  'size': 3.7037037037037037,\n",
       "  'id': 'Borrowing Money, Credit',\n",
       "  'label': 'Borrowing Money, Credit',\n",
       "  'shape': 'dot',\n",
       "  'title': '0',\n",
       "  'score': 0.31},\n",
       " {'color': 'rgba(255, 158, 0, 1)',\n",
       "  'descendants': 0,\n",
       "  'size': 3.7037037037037037,\n",
       "  'id': 'Investments and Risk Management',\n",
       "  'label': 'Investments and Risk Management',\n",
       "  'shape': 'dot',\n",
       "  'title': '0',\n",
       "  'score': 0.31},\n",
       " {'color': 'rgba(255, 158, 0, 1)',\n",
       "  'descendants': 0,\n",
       "  'size': 3.7037037037037037,\n",
       "  'id': 'Insurance',\n",
       "  'label': 'Insurance',\n",
       "  'shape': 'dot',\n",
       "  'title': '0',\n",
       "  'score': 0.31},\n",
       " {'color': 'rgba(255, 158, 0, 1)',\n",
       "  'descendants': 0,\n",
       "  'size': 3.7037037037037037,\n",
       "  'id': 'Financial Fraud',\n",
       "  'label': 'Financial Fraud',\n",
       "  'shape': 'dot',\n",
       "  'title': '0',\n",
       "  'score': 0.31},\n",
       " {'color': 'rgba(255, 158, 0, 1)',\n",
       "  'descendants': 0,\n",
       "  'size': 3.7037037037037037,\n",
       "  'id': 'Crowdfunding',\n",
       "  'label': 'Crowdfunding',\n",
       "  'shape': 'dot',\n",
       "  'title': '0',\n",
       "  'score': 0.31},\n",
       " {'color': 'rgba(255, 158, 0, 1)',\n",
       "  'descendants': 0,\n",
       "  'size': 3.7037037037037037,\n",
       "  'id': 'Cryptocurrencies',\n",
       "  'label': 'Cryptocurrencies',\n",
       "  'shape': 'dot',\n",
       "  'title': '0',\n",
       "  'score': 0.31}]"
      ]
     },
     "execution_count": 1460,
     "metadata": {},
     "output_type": "execute_result"
    }
   ],
   "source": [
    "net.nodes"
   ]
  },
  {
   "cell_type": "code",
   "execution_count": 1461,
   "metadata": {},
   "outputs": [],
   "source": [
    "#for node in net.nodes: \n",
    "    #node[\"font\"] = {'size': 12}\n",
    "    #if node['id'] == \"Economics\": \n",
    "       # node['color'] = \"rgba(17, 113, 229, 1)\"\n"
   ]
  },
  {
   "cell_type": "markdown",
   "metadata": {},
   "source": [
    "Show the graph"
   ]
  },
  {
   "cell_type": "code",
   "execution_count": 1462,
   "metadata": {},
   "outputs": [
    {
     "name": "stdout",
     "output_type": "stream",
     "text": [
      "economics_knowledge_graph.html\n"
     ]
    },
    {
     "data": {
      "text/html": [
       "\n",
       "        <iframe\n",
       "            width=\"100%\"\n",
       "            height=\"600px\"\n",
       "            src=\"economics_knowledge_graph.html\"\n",
       "            frameborder=\"0\"\n",
       "            allowfullscreen\n",
       "            \n",
       "        ></iframe>\n",
       "        "
      ],
      "text/plain": [
       "<IPython.lib.display.IFrame at 0x117098f80>"
      ]
     },
     "execution_count": 1462,
     "metadata": {},
     "output_type": "execute_result"
    }
   ],
   "source": [
    "net.show(\"economics_knowledge_graph.html\")"
   ]
  }
 ],
 "metadata": {
  "kernelspec": {
   "display_name": "base",
   "language": "python",
   "name": "python3"
  },
  "language_info": {
   "codemirror_mode": {
    "name": "ipython",
    "version": 3
   },
   "file_extension": ".py",
   "mimetype": "text/x-python",
   "name": "python",
   "nbconvert_exporter": "python",
   "pygments_lexer": "ipython3",
   "version": "3.12.4"
  }
 },
 "nbformat": 4,
 "nbformat_minor": 2
}
