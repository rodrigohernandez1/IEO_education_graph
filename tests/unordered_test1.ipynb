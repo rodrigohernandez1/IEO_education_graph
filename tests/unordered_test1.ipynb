{
 "cells": [
  {
   "cell_type": "markdown",
   "metadata": {},
   "source": [
    "<h1> Test 1 </h1>\n",
    "\n",
    "This is the first test for an unordered network of the economics and finance curriculum for the IEO training. \n",
    "\n",
    "This was first done February 5th 2025\n",
    "\n",
    "This code is for testing and playing with networkx and pyvis"
   ]
  },
  {
   "cell_type": "code",
   "execution_count": 198,
   "metadata": {},
   "outputs": [],
   "source": [
    "import networkx as nx\n",
    "from pyvis.network import Network"
   ]
  },
  {
   "cell_type": "markdown",
   "metadata": {},
   "source": [
    "I start by creating a directed graph G"
   ]
  },
  {
   "cell_type": "code",
   "execution_count": 199,
   "metadata": {},
   "outputs": [],
   "source": [
    "G = nx.DiGraph()"
   ]
  },
  {
   "cell_type": "markdown",
   "metadata": {},
   "source": [
    "I will specify the required hierarchy of the topics, there are two main topics in the IEO: Economics and Finance"
   ]
  },
  {
   "cell_type": "code",
   "execution_count": 200,
   "metadata": {},
   "outputs": [],
   "source": [
    "hierarchy = {\n",
    "    #Econ\n",
    "    \"Economics\" : [\"Microeconomics\", \"Macroeconomics\", \"International Economics\", \"Research\"],\n",
    "    \"Microeconomics\" : [\"Competitive markets\", \"Consumer's choice\", \"Firm's behavior\", \"Non-competitive markets\", \"Government interventions\", \"Market failures\", \"Labor market\", \"Game thoery\", \"Innovations\"], \n",
    "    \"Macroeconomics\" : [\"Macroeconomic data\", \"Technology and long-run growth\", \"Labor market\", \"AD-AS model\", \"Money and banks\", \"Monetary and fiscal policy\", \"Economic fluctuations and crises\", \"Institutions and Inequality\"], \n",
    "    \"International Economics\" : [\"Specialization and trade\", \"Protectionism\", \"Currencies\", \"Environment and sustainable development\"],\n",
    "    \"Research\" : [\"Nobel laureates (memory)\", \"Nobel research (connectivity)\"], \n",
    "    #Finance \n",
    "    \"Finance\" : [\"Financial Planning\", \"Banks and the banking system\", \"Saving Money\", \"Borrowing Money, Credit\", \"Investments and Risk Management\", \"Insurance\", \"Financial Fraud\", \"Crowdfunding\", \"Cryptocurrencies\"]\n",
    "}"
   ]
  },
  {
   "cell_type": "markdown",
   "metadata": {},
   "source": [
    "I specify a function that will complete the nodes between parent and children from the dictionary "
   ]
  },
  {
   "cell_type": "code",
   "execution_count": 201,
   "metadata": {},
   "outputs": [],
   "source": [
    "def edge_maker(network, parent, children): \n",
    "    for child in children: \n",
    "        network.add_edge(parent, child)"
   ]
  },
  {
   "cell_type": "code",
   "execution_count": 202,
   "metadata": {},
   "outputs": [],
   "source": [
    "for parent, children in hierarchy.items(): \n",
    "    edge_maker(G, parent, children)"
   ]
  },
  {
   "cell_type": "markdown",
   "metadata": {},
   "source": [
    "list the nodes"
   ]
  },
  {
   "cell_type": "code",
   "execution_count": 203,
   "metadata": {},
   "outputs": [
    {
     "name": "stdout",
     "output_type": "stream",
     "text": [
      "['Economics', 'Microeconomics', 'Macroeconomics', 'International Economics', 'Research', 'Competitive markets', \"Consumer's choice\", \"Firm's behavior\", 'Non-competitive markets', 'Government interventions', 'Market failures', 'Labor market', 'Game thoery', 'Innovations', 'Macroeconomic data', 'Technology and long-run growth', 'AD-AS model', 'Money and banks', 'Monetary and fiscal policy', 'Economic fluctuations and crises', 'Institutions and Inequality', 'Specialization and trade', 'Protectionism', 'Currencies', 'Environment and sustainable development', 'Nobel laureates (memory)', 'Nobel research (connectivity)', 'Finance', 'Financial Planning', 'Banks and the banking system', 'Saving Money', 'Borrowing Money, Credit', 'Investments and Risk Management', 'Insurance', 'Financial Fraud', 'Crowdfunding', 'Cryptocurrencies']\n",
      "37\n"
     ]
    }
   ],
   "source": [
    "print((G.nodes()))\n",
    "print(len(G.nodes))"
   ]
  },
  {
   "cell_type": "markdown",
   "metadata": {},
   "source": [
    "test for descendants and succesors"
   ]
  },
  {
   "cell_type": "code",
   "execution_count": 204,
   "metadata": {},
   "outputs": [
    {
     "name": "stdout",
     "output_type": "stream",
     "text": [
      "['Competitive markets', \"Consumer's choice\", \"Firm's behavior\", 'Non-competitive markets', 'Government interventions', 'Market failures', 'Labor market', 'Game thoery', 'Innovations']\n",
      "['Macroeconomic data', 'Technology and long-run growth', 'Labor market', 'AD-AS model', 'Money and banks', 'Monetary and fiscal policy', 'Economic fluctuations and crises', 'Institutions and Inequality']\n",
      "['Specialization and trade', 'Protectionism', 'Currencies', 'Environment and sustainable development']\n",
      "['Nobel laureates (memory)', 'Nobel research (connectivity)']\n",
      "22\n",
      "26\n"
     ]
    }
   ],
   "source": [
    "for node in G.successors(\"Economics\"): \n",
    "    print(list(G.successors(node)))\n",
    "grandchildren_econ = nx.descendants_at_distance(G, \"Economics\", 2 )\n",
    "print(len(grandchildren_econ))\n",
    "descendants_econ = nx.descendants(G, \"Economics\")\n",
    "print(len(descendants_econ))"
   ]
  },
  {
   "cell_type": "code",
   "execution_count": 205,
   "metadata": {},
   "outputs": [],
   "source": [
    "#here I change the color of a node in G and later I get that attribute to convert a real color in pyvis\n",
    "for node in G.successors(\"Economics\"): \n",
    "    G.nodes[node][\"color\"] = \"rgba(254, 112, 112, 1)\"\n",
    "    G.nodes[node][\"size\"] = 20"
   ]
  },
  {
   "cell_type": "code",
   "execution_count": 206,
   "metadata": {},
   "outputs": [
    {
     "name": "stdout",
     "output_type": "stream",
     "text": [
      "{'color': 'rgba(254, 112, 112, 1)', 'size': 20}\n"
     ]
    }
   ],
   "source": [
    "print(G.nodes[\"Research\"])"
   ]
  },
  {
   "cell_type": "markdown",
   "metadata": {},
   "source": [
    "Convert it to PyVis graph"
   ]
  },
  {
   "cell_type": "code",
   "execution_count": 207,
   "metadata": {},
   "outputs": [
    {
     "name": "stdout",
     "output_type": "stream",
     "text": [
      "Warning: When  cdn_resources is 'local' jupyter notebook has issues displaying graphics on chrome/safari. Use cdn_resources='in_line' or cdn_resources='remote' if you have issues viewing graphics in a notebook.\n"
     ]
    }
   ],
   "source": [
    "net = Network(notebook=True, directed=True)\n",
    "net.from_nx(G)"
   ]
  },
  {
   "cell_type": "markdown",
   "metadata": {},
   "source": [
    "Make all the adjusments of color"
   ]
  },
  {
   "cell_type": "code",
   "execution_count": 208,
   "metadata": {},
   "outputs": [],
   "source": [
    "for edge in net.edges:\n",
    "    edge['color'] = 'black' \n"
   ]
  },
  {
   "cell_type": "code",
   "execution_count": 209,
   "metadata": {},
   "outputs": [],
   "source": [
    "for node in net.nodes:\n",
    "    node[\"size\"] = G.nodes[node[\"id\"]].get(\"size\")"
   ]
  },
  {
   "cell_type": "code",
   "execution_count": 210,
   "metadata": {},
   "outputs": [],
   "source": [
    "for node in net.nodes: \n",
    "    node[\"font\"] = {'size': 12}\n",
    "    if node['id'] == \"Economics\": \n",
    "        node['color'] = \"rgba(17, 113, 229, 1)\"\n",
    "        node['size'] = 30\n"
   ]
  },
  {
   "cell_type": "markdown",
   "metadata": {},
   "source": [
    "Show the graph"
   ]
  },
  {
   "cell_type": "code",
   "execution_count": 211,
   "metadata": {},
   "outputs": [
    {
     "name": "stdout",
     "output_type": "stream",
     "text": [
      "economics_knowledge_graph.html\n"
     ]
    },
    {
     "data": {
      "text/html": [
       "\n",
       "        <iframe\n",
       "            width=\"100%\"\n",
       "            height=\"600px\"\n",
       "            src=\"economics_knowledge_graph.html\"\n",
       "            frameborder=\"0\"\n",
       "            allowfullscreen\n",
       "            \n",
       "        ></iframe>\n",
       "        "
      ],
      "text/plain": [
       "<IPython.lib.display.IFrame at 0x11640e2a0>"
      ]
     },
     "execution_count": 211,
     "metadata": {},
     "output_type": "execute_result"
    }
   ],
   "source": [
    "net.show(\"economics_knowledge_graph.html\")"
   ]
  }
 ],
 "metadata": {
  "kernelspec": {
   "display_name": "base",
   "language": "python",
   "name": "python3"
  },
  "language_info": {
   "codemirror_mode": {
    "name": "ipython",
    "version": 3
   },
   "file_extension": ".py",
   "mimetype": "text/x-python",
   "name": "python",
   "nbconvert_exporter": "python",
   "pygments_lexer": "ipython3",
   "version": "3.12.4"
  }
 },
 "nbformat": 4,
 "nbformat_minor": 2
}
