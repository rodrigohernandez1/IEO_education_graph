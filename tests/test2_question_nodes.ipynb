{
 "cells": [
  {
   "cell_type": "markdown",
   "metadata": {},
   "source": [
    "<h4>This is a test exploring the possibility to express questions as nodes</h4>"
   ]
  },
  {
   "cell_type": "code",
   "execution_count": 26,
   "metadata": {},
   "outputs": [],
   "source": [
    "import pandas as pd\n",
    "import networkx as nx\n",
    "from pyvis.network import Network "
   ]
  },
  {
   "cell_type": "code",
   "execution_count": 27,
   "metadata": {},
   "outputs": [],
   "source": [
    "G = nx.DiGraph()"
   ]
  },
  {
   "cell_type": "code",
   "execution_count": 28,
   "metadata": {},
   "outputs": [],
   "source": [
    "hierarchy = {\n",
    "    #Econ\n",
    "    \"Economics\" : [\"Microeconomics\", \"Macroeconomics\", \"International Economics\", \"Research\"],\n",
    "    \"Microeconomics\" : [\"Competitive markets\", \"Consumer's choice\", \"Firm's behavior\", \"Non-competitive markets\", \"Government interventions\", \"Market failures\", \"Labor market\", \"Game theory\", \"Innovations\"], \n",
    "    \"Macroeconomics\" : [\"Macroeconomic data\", \"Technology and long-run growth\", \"Labor market\", \"AD-AS model\", \"Money and banks\", \"Monetary and fiscal policy\", \"Economic fluctuations and crises\", \"Institutions and Inequality\"], \n",
    "    \"International Economics\" : [\"Specialization and trade\", \"Protectionism\", \"Currencies\", \"Environment and sustainable development\"],\n",
    "    \"Research\" : [\"Nobel laureates (memory)\", \"Nobel research (connectivity)\"], \n",
    "    #Finance \n",
    "    \"Finance\" : [\"Financial Planning\", \"Banks and the banking system\", \"Saving Money\", \"Borrowing Money, Credit\", \"Investments and Risk Management\", \"Insurance\", \"Financial Fraud\", \"Crowdfunding\", \"Cryptocurrencies\"], \n",
    "    'Market failures': [\"Monetary and fiscal policy\"]\n",
    "}\n",
    "\n",
    "#edge maker\n",
    "def edge_maker(graph, parent, children): \n",
    "    for child in children: \n",
    "        graph.add_edge(parent, child)\n",
    "\n",
    "for parent, children in hierarchy.items(): \n",
    "    edge_maker(G, parent, children)\n"
   ]
  },
  {
   "cell_type": "code",
   "execution_count": 29,
   "metadata": {},
   "outputs": [
    {
     "data": {
      "text/html": [
       "<div>\n",
       "<style scoped>\n",
       "    .dataframe tbody tr th:only-of-type {\n",
       "        vertical-align: middle;\n",
       "    }\n",
       "\n",
       "    .dataframe tbody tr th {\n",
       "        vertical-align: top;\n",
       "    }\n",
       "\n",
       "    .dataframe thead th {\n",
       "        text-align: right;\n",
       "    }\n",
       "</style>\n",
       "<table border=\"1\" class=\"dataframe\">\n",
       "  <thead>\n",
       "    <tr style=\"text-align: right;\">\n",
       "      <th></th>\n",
       "      <th>Question</th>\n",
       "      <th>title</th>\n",
       "      <th>Topic (my opinion)</th>\n",
       "      <th>Type of question</th>\n",
       "      <th>Score ( 1 or 0 )</th>\n",
       "    </tr>\n",
       "  </thead>\n",
       "  <tbody>\n",
       "    <tr>\n",
       "      <th>0</th>\n",
       "      <td>1</td>\n",
       "      <td>Price Discrimination</td>\n",
       "      <td>Non-competitive markets</td>\n",
       "      <td>Surplus, deadweight loss, equilibirum</td>\n",
       "      <td>1</td>\n",
       "    </tr>\n",
       "    <tr>\n",
       "      <th>1</th>\n",
       "      <td>2</td>\n",
       "      <td>Entry Game</td>\n",
       "      <td>Game theory</td>\n",
       "      <td>(backward induction), decission tree</td>\n",
       "      <td>1</td>\n",
       "    </tr>\n",
       "    <tr>\n",
       "      <th>2</th>\n",
       "      <td>3</td>\n",
       "      <td>Opportunity Cost</td>\n",
       "      <td>Firm's behavior</td>\n",
       "      <td>Opportunity cost, competitive advantage</td>\n",
       "      <td>1</td>\n",
       "    </tr>\n",
       "    <tr>\n",
       "      <th>3</th>\n",
       "      <td>4</td>\n",
       "      <td>Consumer Behavior</td>\n",
       "      <td>Consumer's choice</td>\n",
       "      <td>Consumer surplus, equilibrium</td>\n",
       "      <td>1</td>\n",
       "    </tr>\n",
       "    <tr>\n",
       "      <th>4</th>\n",
       "      <td>5</td>\n",
       "      <td>Taxes 1</td>\n",
       "      <td>Competitive markets</td>\n",
       "      <td>Price elasticity of supply, tax burden calcula...</td>\n",
       "      <td>1</td>\n",
       "    </tr>\n",
       "    <tr>\n",
       "      <th>5</th>\n",
       "      <td>6</td>\n",
       "      <td>Price Elasticity of Demand 1</td>\n",
       "      <td>Competitive markets</td>\n",
       "      <td>Price elasticity of demand, calculation</td>\n",
       "      <td>1</td>\n",
       "    </tr>\n",
       "    <tr>\n",
       "      <th>6</th>\n",
       "      <td>7</td>\n",
       "      <td>Price Elasticity of Demand 2</td>\n",
       "      <td>Competitive markets</td>\n",
       "      <td>Price elasticty of demand, difference between ...</td>\n",
       "      <td>1</td>\n",
       "    </tr>\n",
       "    <tr>\n",
       "      <th>7</th>\n",
       "      <td>8</td>\n",
       "      <td>Taxes 2</td>\n",
       "      <td>Government interventions</td>\n",
       "      <td>Tax burden, elastic, ineqlistic good (luxuty v...</td>\n",
       "      <td>1</td>\n",
       "    </tr>\n",
       "    <tr>\n",
       "      <th>8</th>\n",
       "      <td>9</td>\n",
       "      <td>Monopoly Pricing</td>\n",
       "      <td>Non-competitive markets</td>\n",
       "      <td>MR=MC , price setting, graphing</td>\n",
       "      <td>1</td>\n",
       "    </tr>\n",
       "    <tr>\n",
       "      <th>9</th>\n",
       "      <td>10</td>\n",
       "      <td>Output Gap</td>\n",
       "      <td>Macroeconomic data</td>\n",
       "      <td>Knowing by definition</td>\n",
       "      <td>1</td>\n",
       "    </tr>\n",
       "    <tr>\n",
       "      <th>10</th>\n",
       "      <td>11</td>\n",
       "      <td>Taxes 3</td>\n",
       "      <td>Government interventions</td>\n",
       "      <td>In competition, graphing, tax revenue and soci...</td>\n",
       "      <td>1</td>\n",
       "    </tr>\n",
       "    <tr>\n",
       "      <th>11</th>\n",
       "      <td>12</td>\n",
       "      <td>Free-rider problem</td>\n",
       "      <td>Game theory</td>\n",
       "      <td>Nash equilibirum, decission tree</td>\n",
       "      <td>1</td>\n",
       "    </tr>\n",
       "    <tr>\n",
       "      <th>12</th>\n",
       "      <td>13</td>\n",
       "      <td>Externalities</td>\n",
       "      <td>Market failures</td>\n",
       "      <td>Externatilities, social cost and pareto effici...</td>\n",
       "      <td>0</td>\n",
       "    </tr>\n",
       "    <tr>\n",
       "      <th>13</th>\n",
       "      <td>14</td>\n",
       "      <td>Inequality</td>\n",
       "      <td>Institutions and Inequality</td>\n",
       "      <td>Gini, graphs and progressive taxes</td>\n",
       "      <td>1</td>\n",
       "    </tr>\n",
       "    <tr>\n",
       "      <th>14</th>\n",
       "      <td>15</td>\n",
       "      <td>Transaction Costs</td>\n",
       "      <td>Market failures</td>\n",
       "      <td>Knowing by definition</td>\n",
       "      <td>1</td>\n",
       "    </tr>\n",
       "    <tr>\n",
       "      <th>15</th>\n",
       "      <td>16</td>\n",
       "      <td>Unemployment</td>\n",
       "      <td>Monetary and fiscal policy</td>\n",
       "      <td>Knowing by definition</td>\n",
       "      <td>1</td>\n",
       "    </tr>\n",
       "    <tr>\n",
       "      <th>16</th>\n",
       "      <td>17</td>\n",
       "      <td>Nobel Prize</td>\n",
       "      <td>Nobel research (connectivity)</td>\n",
       "      <td>Nobel explanation</td>\n",
       "      <td>0</td>\n",
       "    </tr>\n",
       "    <tr>\n",
       "      <th>17</th>\n",
       "      <td>18</td>\n",
       "      <td>Monetary Policy</td>\n",
       "      <td>Monetary and fiscal policy</td>\n",
       "      <td>Knowing by definition</td>\n",
       "      <td>1</td>\n",
       "    </tr>\n",
       "    <tr>\n",
       "      <th>18</th>\n",
       "      <td>19</td>\n",
       "      <td>Fiscal Policy</td>\n",
       "      <td>Monetary and fiscal policy</td>\n",
       "      <td>Knowing by definition</td>\n",
       "      <td>1</td>\n",
       "    </tr>\n",
       "    <tr>\n",
       "      <th>19</th>\n",
       "      <td>20</td>\n",
       "      <td>Stagation</td>\n",
       "      <td>Monetary and fiscal policy</td>\n",
       "      <td>Stagflation, know the stages of economy and mo...</td>\n",
       "      <td>1</td>\n",
       "    </tr>\n",
       "  </tbody>\n",
       "</table>\n",
       "</div>"
      ],
      "text/plain": [
       "    Question                         title             Topic (my opinion)  \\\n",
       "0          1          Price Discrimination        Non-competitive markets   \n",
       "1          2                    Entry Game                    Game theory   \n",
       "2          3              Opportunity Cost                Firm's behavior   \n",
       "3          4             Consumer Behavior              Consumer's choice   \n",
       "4          5                       Taxes 1            Competitive markets   \n",
       "5          6  Price Elasticity of Demand 1            Competitive markets   \n",
       "6          7  Price Elasticity of Demand 2            Competitive markets   \n",
       "7          8                       Taxes 2       Government interventions   \n",
       "8          9              Monopoly Pricing        Non-competitive markets   \n",
       "9         10                    Output Gap             Macroeconomic data   \n",
       "10        11                       Taxes 3       Government interventions   \n",
       "11        12            Free-rider problem                    Game theory   \n",
       "12        13                 Externalities                Market failures   \n",
       "13        14                    Inequality    Institutions and Inequality   \n",
       "14        15             Transaction Costs                Market failures   \n",
       "15        16                  Unemployment     Monetary and fiscal policy   \n",
       "16        17                   Nobel Prize  Nobel research (connectivity)   \n",
       "17        18               Monetary Policy     Monetary and fiscal policy   \n",
       "18        19                 Fiscal Policy     Monetary and fiscal policy   \n",
       "19        20                     Stagation     Monetary and fiscal policy   \n",
       "\n",
       "                                    Type of question   Score ( 1 or 0 )  \n",
       "0               Surplus, deadweight loss, equilibirum                 1  \n",
       "1                (backward induction), decission tree                 1  \n",
       "2             Opportunity cost, competitive advantage                 1  \n",
       "3                       Consumer surplus, equilibrium                 1  \n",
       "4   Price elasticity of supply, tax burden calcula...                 1  \n",
       "5             Price elasticity of demand, calculation                 1  \n",
       "6   Price elasticty of demand, difference between ...                 1  \n",
       "7   Tax burden, elastic, ineqlistic good (luxuty v...                 1  \n",
       "8                     MR=MC , price setting, graphing                 1  \n",
       "9                              Knowing by definition                  1  \n",
       "10  In competition, graphing, tax revenue and soci...                 1  \n",
       "11                   Nash equilibirum, decission tree                 1  \n",
       "12  Externatilities, social cost and pareto effici...                 0  \n",
       "13                Gini, graphs and progressive taxes                  1  \n",
       "14                             Knowing by definition                  1  \n",
       "15                             Knowing by definition                  1  \n",
       "16                                 Nobel explanation                  0  \n",
       "17                             Knowing by definition                  1  \n",
       "18                             Knowing by definition                  1  \n",
       "19  Stagflation, know the stages of economy and mo...                 1  "
      ]
     },
     "execution_count": 29,
     "metadata": {},
     "output_type": "execute_result"
    }
   ],
   "source": [
    "question_data = pd.read_excel(\"../assets/excels/IEO_2024_MCQ.xlsx\")\n",
    "question_data"
   ]
  },
  {
   "cell_type": "code",
   "execution_count": 30,
   "metadata": {},
   "outputs": [],
   "source": [
    "for i in range(question_data.shape[0]): \n",
    "    G.add_edge(question_data['Topic (my opinion)'][i], question_data['title'][i])"
   ]
  },
  {
   "cell_type": "code",
   "execution_count": 31,
   "metadata": {},
   "outputs": [
    {
     "name": "stdout",
     "output_type": "stream",
     "text": [
      "57\n"
     ]
    }
   ],
   "source": [
    "print(len(G.nodes()))"
   ]
  },
  {
   "cell_type": "code",
   "execution_count": 32,
   "metadata": {},
   "outputs": [
    {
     "name": "stdout",
     "output_type": "stream",
     "text": [
      "{'Competitive markets', 'Microeconomics', 'Economics'}\n"
     ]
    }
   ],
   "source": [
    "print(nx.ancestors(G, 'Taxes 1'))"
   ]
  },
  {
   "cell_type": "code",
   "execution_count": 34,
   "metadata": {},
   "outputs": [
    {
     "name": "stdout",
     "output_type": "stream",
     "text": [
      "Warning: When  cdn_resources is 'local' jupyter notebook has issues displaying graphics on chrome/safari. Use cdn_resources='in_line' or cdn_resources='remote' if you have issues viewing graphics in a notebook.\n",
      "netowork2.html\n"
     ]
    },
    {
     "data": {
      "text/html": [
       "\n",
       "        <iframe\n",
       "            width=\"100%\"\n",
       "            height=\"600px\"\n",
       "            src=\"netowork2.html\"\n",
       "            frameborder=\"0\"\n",
       "            allowfullscreen\n",
       "            \n",
       "        ></iframe>\n",
       "        "
      ],
      "text/plain": [
       "<IPython.lib.display.IFrame at 0x143a31df0>"
      ]
     },
     "execution_count": 34,
     "metadata": {},
     "output_type": "execute_result"
    }
   ],
   "source": [
    "from pyvis.network import Network\n",
    "\n",
    "net = Network(notebook=True, directed=True)\n",
    "net.from_nx(G)\n",
    "\n",
    "net.show('netowork2.html')"
   ]
  }
 ],
 "metadata": {
  "kernelspec": {
   "display_name": "base",
   "language": "python",
   "name": "python3"
  },
  "language_info": {
   "codemirror_mode": {
    "name": "ipython",
    "version": 3
   },
   "file_extension": ".py",
   "mimetype": "text/x-python",
   "name": "python",
   "nbconvert_exporter": "python",
   "pygments_lexer": "ipython3",
   "version": "3.12.4"
  }
 },
 "nbformat": 4,
 "nbformat_minor": 2
}
