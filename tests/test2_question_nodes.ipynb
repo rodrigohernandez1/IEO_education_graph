{
 "cells": [
  {
   "cell_type": "markdown",
   "metadata": {},
   "source": [
    "<h4>This is a test exploring the possibility to express questions as nodes</h4>"
   ]
  },
  {
   "cell_type": "code",
   "execution_count": 1,
   "metadata": {},
   "outputs": [],
   "source": [
    "import pandas as pd\n",
    "import networkx as nx\n",
    "from pyvis.network import Network "
   ]
  },
  {
   "cell_type": "code",
   "execution_count": 4,
   "metadata": {},
   "outputs": [],
   "source": [
    "G = nx.DiGraph()"
   ]
  },
  {
   "cell_type": "code",
   "execution_count": null,
   "metadata": {},
   "outputs": [],
   "source": [
    "hierarchy = {\n",
    "    #Econ\n",
    "    \"Economics\" : [\"Microeconomics\", \"Macroeconomics\", \"International Economics\", \"Research\"],\n",
    "    \"Microeconomics\" : [\"Competitive markets\", \"Consumer's choice\", \"Firm's behavior\", \"Non-competitive markets\", \"Government interventions\", \"Market failures\", \"Labor market\", \"Game thoery\", \"Innovations\"], \n",
    "    \"Macroeconomics\" : [\"Macroeconomic data\", \"Technology and long-run growth\", \"Labor market\", \"AD-AS model\", \"Money and banks\", \"Monetary and fiscal policy\", \"Economic fluctuations and crises\", \"Institutions and Inequality\"], \n",
    "    \"International Economics\" : [\"Specialization and trade\", \"Protectionism\", \"Currencies\", \"Environment and sustainable development\"],\n",
    "    \"Research\" : [\"Nobel laureates (memory)\", \"Nobel research (connectivity)\"], \n",
    "    #Finance \n",
    "    \"Finance\" : [\"Financial Planning\", \"Banks and the banking system\", \"Saving Money\", \"Borrowing Money, Credit\", \"Investments and Risk Management\", \"Insurance\", \"Financial Fraud\", \"Crowdfunding\", \"Cryptocurrencies\"], \n",
    "    'Market failures': [\"Monetary and fiscal policy\"]\n",
    "}\n",
    "\n",
    "#edge maker\n",
    "def edge_maker(graph, parent, children): \n",
    "    for child in children: \n",
    "        graph.add_edge(parent, child)\n",
    "\n",
    "for parent, children in hierarchy.items(): \n",
    "    edge_maker(G, parent, children)\n"
   ]
  },
  {
   "cell_type": "code",
   "execution_count": null,
   "metadata": {},
   "outputs": [],
   "source": [
    "questions_data = pd.DataFrame(\"../assets/excels/2024_IEO_econ_MCQ_PersonalScores.xlsx\")\n"
   ]
  }
 ],
 "metadata": {
  "kernelspec": {
   "display_name": "base",
   "language": "python",
   "name": "python3"
  },
  "language_info": {
   "codemirror_mode": {
    "name": "ipython",
    "version": 3
   },
   "file_extension": ".py",
   "mimetype": "text/x-python",
   "name": "python",
   "nbconvert_exporter": "python",
   "pygments_lexer": "ipython3",
   "version": "3.12.4"
  }
 },
 "nbformat": 4,
 "nbformat_minor": 2
}
